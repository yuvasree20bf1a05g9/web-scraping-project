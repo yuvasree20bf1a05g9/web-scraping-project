{
  "cells": [
    {
      "cell_type": "markdown",
      "metadata": {
        "colab_type": "text",
        "id": "view-in-github"
      },
      "source": [
        "<a href=\"https://colab.research.google.com/github/vindhyathallu/python_project/blob/main/scraping_github_topics_repositories.ipynb\" target=\"_parent\"><img src=\"https://colab.research.google.com/assets/colab-badge.svg\" alt=\"Open In Colab\"/></a>"
      ]
    },
    {
      "cell_type": "markdown",
      "metadata": {
        "id": "KHWcphJ4jsbH"
      },
      "source": [
        "# Scraping Top Repositories for Topics on Github\n",
        "\n",
        "\n",
        "\n",
        "\n",
        "Web scraping is the process of extracting and parsing data from websites in an automated fashion using a computer program.       it's a useful technique for creating datasets for research and learning. \n",
        "\n",
        "GitHub is a code hosting platform for collaboration and version control.\n",
        "GitHub lets you (and others) work together on projects.\n",
        "\n",
        "python is the language used in this project and\n",
        "requests,Beautiful soup,pandas are the libraries are used.\n",
        "\n",
        "Here are the steps we will follow:\n",
        "\n",
        "- we are going to scrape https://github.com/topics\n",
        "- we will get a list of topics. For each topic,we'll get topic title,topic page URL and topic description.\n",
        "- For each topic,we'll get the top 25 repositories in the topic from the topic page.\n",
        "- For each repository,we'll grab the repo name,username,stars and repo URL.\n",
        "- for each URL we'll create a csv file in the following format:\n",
        "----\n",
        "- Repo Name,username,Stars,Repo URL\n",
        "- three.js,mrdoob,90000,https://github.com/mrdoob/three.js\n",
        "- pmndrs,react-three-fiber,22100,https://github.com/pmndrs/react-three-fiber\n"
      ]
    },
    {
      "cell_type": "markdown",
      "metadata": {
        "id": "K8CLPHk7jsbQ"
      },
      "source": [
        "## Scraping the list of topics from Github\n",
        "\n",
        "Explain how you will do it\n",
        "\n",
        "- use requests to download the page\n",
        "- use BS4 to parse and extract information\n",
        "- convert to a pandas DataFrame\n",
        "\n",
        "let's write a function to download the page"
      ]
    },
    {
      "cell_type": "code",
      "execution_count": null,
      "metadata": {
        "id": "uP3tYdq4jsbS"
      },
      "outputs": [
        {
          "ename": "",
          "evalue": "",
          "output_type": "error",
          "traceback": [
            "\u001b[1;31mRunning cells with 'c:\\Users\\sreem\\AppData\\Local\\Programs\\Python\\Python311\\python.exe' requires the ipykernel package.\n",
            "\u001b[1;31mRun the following command to install 'ipykernel' into the Python environment. \n",
            "\u001b[1;31mCommand: 'c:/Users/sreem/AppData/Local/Programs/Python/Python311/python.exe -m pip install ipykernel -U --user --force-reinstall'"
          ]
        }
      ],
      "source": [
        "import requests\n",
        "from bs4 import BeautifulSoup\n",
        "\n",
        "def get_topics_page():\n",
        "    #ToDo-add comments\n",
        "    topics_url = 'https://github.com/topics'\n",
        "    response = requests.get(topics_url)\n",
        "    if response.status_code != 200:\n",
        "        raise Exception('Failed to load page {}'.format(topics_url))\n",
        "    doc=BeautifulSoup(response.text,'html.parser')\n",
        "    return doc"
      ]
    },
    {
      "cell_type": "code",
      "execution_count": null,
      "metadata": {
        "id": "8ibCx30ijsbU"
      },
      "outputs": [
        {
          "ename": "",
          "evalue": "",
          "output_type": "error",
          "traceback": [
            "\u001b[1;31mRunning cells with 'c:\\Users\\sreem\\AppData\\Local\\Programs\\Python\\Python311\\python.exe' requires the ipykernel package.\n",
            "\u001b[1;31mRun the following command to install 'ipykernel' into the Python environment. \n",
            "\u001b[1;31mCommand: 'c:/Users/sreem/AppData/Local/Programs/Python/Python311/python.exe -m pip install ipykernel -U --user --force-reinstall'"
          ]
        }
      ],
      "source": [
        "doc=get_topics_page()"
      ]
    },
    {
      "cell_type": "markdown",
      "metadata": {
        "id": "HmYMDg2_jsbU"
      },
      "source": [
        "Let's create some helper functions to parse information from the page\n",
        "\n",
        "To get topic titles,we can pick p tags with the class..."
      ]
    },
    {
      "cell_type": "code",
      "execution_count": null,
      "metadata": {
        "id": "lvEytbqCjsbV"
      },
      "outputs": [
        {
          "ename": "",
          "evalue": "",
          "output_type": "error",
          "traceback": [
            "\u001b[1;31mRunning cells with 'c:\\Users\\sreem\\AppData\\Local\\Programs\\Python\\Python311\\python.exe' requires the ipykernel package.\n",
            "\u001b[1;31mRun the following command to install 'ipykernel' into the Python environment. \n",
            "\u001b[1;31mCommand: 'c:/Users/sreem/AppData/Local/Programs/Python/Python311/python.exe -m pip install ipykernel -U --user --force-reinstall'"
          ]
        }
      ],
      "source": [
        "def get_topic_titles(doc):\n",
        "    selection_class='f3 lh-condensed mb-0 mt-1 Link--primary'\n",
        "    topic_title_tags = doc.find_all('p',{'class':selection_class})\n",
        "    topic_titles=[]\n",
        "    for tag in topic_title_tags:\n",
        "        topic_titles.append(tag.text)\n",
        "\n",
        "    return topic_titles\n"
      ]
    },
    {
      "cell_type": "markdown",
      "metadata": {
        "id": "Jc__61u2jsbW"
      },
      "source": [
        "get_topic_titles can be used to get the list of titles"
      ]
    },
    {
      "cell_type": "code",
      "execution_count": null,
      "metadata": {
        "id": "soimL2YZjsbX"
      },
      "outputs": [
        {
          "ename": "",
          "evalue": "",
          "output_type": "error",
          "traceback": [
            "\u001b[1;31mRunning cells with 'c:\\Users\\sreem\\AppData\\Local\\Programs\\Python\\Python311\\python.exe' requires the ipykernel package.\n",
            "\u001b[1;31mRun the following command to install 'ipykernel' into the Python environment. \n",
            "\u001b[1;31mCommand: 'c:/Users/sreem/AppData/Local/Programs/Python/Python311/python.exe -m pip install ipykernel -U --user --force-reinstall'"
          ]
        }
      ],
      "source": [
        "titles=get_topic_titles(doc)"
      ]
    },
    {
      "cell_type": "code",
      "execution_count": null,
      "metadata": {
        "colab": {
          "base_uri": "https://localhost:8080/"
        },
        "id": "Up4Xj1eDjsbY",
        "outputId": "3a10720d-0000-45f1-8014-9c4632d61a8d"
      },
      "outputs": [
        {
          "ename": "",
          "evalue": "",
          "output_type": "error",
          "traceback": [
            "\u001b[1;31mRunning cells with 'c:\\Users\\sreem\\AppData\\Local\\Programs\\Python\\Python311\\python.exe' requires the ipykernel package.\n",
            "\u001b[1;31mRun the following command to install 'ipykernel' into the Python environment. \n",
            "\u001b[1;31mCommand: 'c:/Users/sreem/AppData/Local/Programs/Python/Python311/python.exe -m pip install ipykernel -U --user --force-reinstall'"
          ]
        }
      ],
      "source": [
        "len(titles)"
      ]
    },
    {
      "cell_type": "markdown",
      "metadata": {
        "id": "G417VyB_zVWg"
      },
      "source": [
        "For Example"
      ]
    },
    {
      "cell_type": "code",
      "execution_count": null,
      "metadata": {
        "colab": {
          "base_uri": "https://localhost:8080/"
        },
        "id": "Ko2FVFYQjsbb",
        "outputId": "75f139a5-8bce-43d8-e585-24721d4400a6"
      },
      "outputs": [
        {
          "ename": "",
          "evalue": "",
          "output_type": "error",
          "traceback": [
            "\u001b[1;31mRunning cells with 'c:\\Users\\sreem\\AppData\\Local\\Programs\\Python\\Python311\\python.exe' requires the ipykernel package.\n",
            "\u001b[1;31mRun the following command to install 'ipykernel' into the Python environment. \n",
            "\u001b[1;31mCommand: 'c:/Users/sreem/AppData/Local/Programs/Python/Python311/python.exe -m pip install ipykernel -U --user --force-reinstall'"
          ]
        }
      ],
      "source": [
        "titles[:5]"
      ]
    },
    {
      "cell_type": "markdown",
      "metadata": {
        "id": "xWsGxMcMjsbc"
      },
      "source": [
        "similarly we have defined functions for descriptions and URLs."
      ]
    },
    {
      "cell_type": "code",
      "execution_count": null,
      "metadata": {
        "id": "5a0roNgujsbc"
      },
      "outputs": [
        {
          "ename": "",
          "evalue": "",
          "output_type": "error",
          "traceback": [
            "\u001b[1;31mRunning cells with 'c:\\Users\\sreem\\AppData\\Local\\Programs\\Python\\Python311\\python.exe' requires the ipykernel package.\n",
            "\u001b[1;31mRun the following command to install 'ipykernel' into the Python environment. \n",
            "\u001b[1;31mCommand: 'c:/Users/sreem/AppData/Local/Programs/Python/Python311/python.exe -m pip install ipykernel -U --user --force-reinstall'"
          ]
        }
      ],
      "source": [
        "def get_topic_descs(doc):\n",
        "    desc_selector='f5 color-fg-muted mb-0 mt-1'\n",
        "    topic_desc_tags=doc.find_all('p',{'class':desc_selector})\n",
        "        \n",
        "                        \n",
        "    topic_descriptions=[]\n",
        "                        \n",
        "    for tag in topic_desc_tags:\n",
        "        topic_descriptions.append(tag.text.strip())\n",
        "    return topic_descriptions"
      ]
    },
    {
      "cell_type": "markdown",
      "metadata": {
        "id": "h4ji9o3NzVWk"
      },
      "source": [
        "To get topic url's we can a tags with class.."
      ]
    },
    {
      "cell_type": "code",
      "execution_count": null,
      "metadata": {
        "id": "IewX7nbajsbd"
      },
      "outputs": [
        {
          "ename": "",
          "evalue": "",
          "output_type": "error",
          "traceback": [
            "\u001b[1;31mRunning cells with 'c:\\Users\\sreem\\AppData\\Local\\Programs\\Python\\Python311\\python.exe' requires the ipykernel package.\n",
            "\u001b[1;31mRun the following command to install 'ipykernel' into the Python environment. \n",
            "\u001b[1;31mCommand: 'c:/Users/sreem/AppData/Local/Programs/Python/Python311/python.exe -m pip install ipykernel -U --user --force-reinstall'"
          ]
        }
      ],
      "source": [
        "def get_topic_urls(doc):\n",
        "    topic_link_tags=doc.find_all('a',{'class':'no-underline flex-grow-0'})\n",
        "    topic_urls=[]\n",
        "    base_url='https://github.com'\n",
        "    for tag in topic_link_tags:\n",
        "        topic_urls.append(base_url+tag['href'])\n",
        "    return topic_urls"
      ]
    },
    {
      "cell_type": "markdown",
      "metadata": {
        "id": "MbSpPTNAjsbe"
      },
      "source": [
        "Let's put it all together into a single function."
      ]
    },
    {
      "cell_type": "code",
      "execution_count": null,
      "metadata": {
        "id": "GXPzco4Hjsbe"
      },
      "outputs": [
        {
          "ename": "",
          "evalue": "",
          "output_type": "error",
          "traceback": [
            "\u001b[1;31mRunning cells with 'c:\\Users\\sreem\\AppData\\Local\\Programs\\Python\\Python311\\python.exe' requires the ipykernel package.\n",
            "\u001b[1;31mRun the following command to install 'ipykernel' into the Python environment. \n",
            "\u001b[1;31mCommand: 'c:/Users/sreem/AppData/Local/Programs/Python/Python311/python.exe -m pip install ipykernel -U --user --force-reinstall'"
          ]
        }
      ],
      "source": [
        "def scrape_topics():\n",
        "    topics_url = 'https://github.com/topics'\n",
        "    response = requests.get(topics_url)\n",
        "    if response.status_code != 200:\n",
        "        raise Exception('Failed to load page {}'.format(topics_url))\n",
        "    doc=BeautifulSoup(response.text,'html.parser')\n",
        "    topics_dict = {\n",
        "        'title': get_topic_titles(doc),\n",
        "        'description': get_topic_descs(doc),\n",
        "        'url': get_topic_urls(doc)\n",
        "    }\n",
        "\n",
        "\n",
        "    return pd.DataFrame(topics_dict)"
      ]
    },
    {
      "cell_type": "markdown",
      "metadata": {
        "id": "hmoPXB0ljsbg"
      },
      "source": [
        "## Get the top 25 repositories from the topic page.\n"
      ]
    },
    {
      "cell_type": "code",
      "execution_count": null,
      "metadata": {
        "id": "JaEmzwgFjsbh"
      },
      "outputs": [
        {
          "ename": "",
          "evalue": "",
          "output_type": "error",
          "traceback": [
            "\u001b[1;31mRunning cells with 'c:\\Users\\sreem\\AppData\\Local\\Programs\\Python\\Python311\\python.exe' requires the ipykernel package.\n",
            "\u001b[1;31mRun the following command to install 'ipykernel' into the Python environment. \n",
            "\u001b[1;31mCommand: 'c:/Users/sreem/AppData/Local/Programs/Python/Python311/python.exe -m pip install ipykernel -U --user --force-reinstall'"
          ]
        }
      ],
      "source": [
        "import pandas as pd\n",
        "import os"
      ]
    },
    {
      "cell_type": "code",
      "execution_count": null,
      "metadata": {
        "id": "P1SzAU8Ajsbh"
      },
      "outputs": [
        {
          "ename": "",
          "evalue": "",
          "output_type": "error",
          "traceback": [
            "\u001b[1;31mRunning cells with 'c:\\Users\\sreem\\AppData\\Local\\Programs\\Python\\Python311\\python.exe' requires the ipykernel package.\n",
            "\u001b[1;31mRun the following command to install 'ipykernel' into the Python environment. \n",
            "\u001b[1;31mCommand: 'c:/Users/sreem/AppData/Local/Programs/Python/Python311/python.exe -m pip install ipykernel -U --user --force-reinstall'"
          ]
        }
      ],
      "source": [
        "def get_topic_page(topic_url):\n",
        "    #Download the page\n",
        "    response=requests.get(topic_url)\n",
        "    #check successful response\n",
        "    if response.status_code!=200:\n",
        "        raise Exception('Failed to load page{}'.format(topic_url))\n",
        "        \n",
        "    #parse using Beautiful soup\n",
        "    topic_doc=BeautifulSoup(response.text,'html.parser')\n",
        "    return topic_doc"
      ]
    },
    {
      "cell_type": "code",
      "execution_count": null,
      "metadata": {
        "id": "w4ncUjphjsbi"
      },
      "outputs": [
        {
          "ename": "",
          "evalue": "",
          "output_type": "error",
          "traceback": [
            "\u001b[1;31mRunning cells with 'c:\\Users\\sreem\\AppData\\Local\\Programs\\Python\\Python311\\python.exe' requires the ipykernel package.\n",
            "\u001b[1;31mRun the following command to install 'ipykernel' into the Python environment. \n",
            "\u001b[1;31mCommand: 'c:/Users/sreem/AppData/Local/Programs/Python/Python311/python.exe -m pip install ipykernel -U --user --force-reinstall'"
          ]
        }
      ],
      "source": [
        "doc=get_topic_page('https://github.com/topics/3d')"
      ]
    },
    {
      "cell_type": "markdown",
      "metadata": {
        "id": "PjJFOD_Kjsbj"
      },
      "source": []
    },
    {
      "cell_type": "code",
      "execution_count": null,
      "metadata": {
        "id": "ApmxATPtjsbj"
      },
      "outputs": [
        {
          "ename": "",
          "evalue": "",
          "output_type": "error",
          "traceback": [
            "\u001b[1;31mRunning cells with 'c:\\Users\\sreem\\AppData\\Local\\Programs\\Python\\Python311\\python.exe' requires the ipykernel package.\n",
            "\u001b[1;31mRun the following command to install 'ipykernel' into the Python environment. \n",
            "\u001b[1;31mCommand: 'c:/Users/sreem/AppData/Local/Programs/Python/Python311/python.exe -m pip install ipykernel -U --user --force-reinstall'"
          ]
        }
      ],
      "source": [
        "def parse_star_count(star_str):\n",
        "    star_str=star_str.strip()\n",
        "    if star_str[-1]=='k':\n",
        "        return int(float(star_str[:-1])*1000)\n",
        "    return int(star_str)"
      ]
    },
    {
      "cell_type": "code",
      "execution_count": null,
      "metadata": {
        "id": "HXZqKlP1jsbk"
      },
      "outputs": [
        {
          "ename": "",
          "evalue": "",
          "output_type": "error",
          "traceback": [
            "\u001b[1;31mRunning cells with 'c:\\Users\\sreem\\AppData\\Local\\Programs\\Python\\Python311\\python.exe' requires the ipykernel package.\n",
            "\u001b[1;31mRun the following command to install 'ipykernel' into the Python environment. \n",
            "\u001b[1;31mCommand: 'c:/Users/sreem/AppData/Local/Programs/Python/Python311/python.exe -m pip install ipykernel -U --user --force-reinstall'"
          ]
        }
      ],
      "source": [
        "def get_repo_info(h1_tag,star_tag):\n",
        "    a_tags=h1_tag.find_all('a')\n",
        "    username=a_tags[0].text.strip()\n",
        "    repo_name=a_tags[1].text.strip()\n",
        "    repo_url='https://github.com'+a_tags[1]['href']\n",
        "    stars=parse_star_count(star_tag.text.strip())\n",
        "    return username,repo_name,stars,repo_url"
      ]
    },
    {
      "cell_type": "code",
      "execution_count": null,
      "metadata": {
        "id": "Yq50Jijgjsbl"
      },
      "outputs": [
        {
          "ename": "",
          "evalue": "",
          "output_type": "error",
          "traceback": [
            "\u001b[1;31mRunning cells with 'c:\\Users\\sreem\\AppData\\Local\\Programs\\Python\\Python311\\python.exe' requires the ipykernel package.\n",
            "\u001b[1;31mRun the following command to install 'ipykernel' into the Python environment. \n",
            "\u001b[1;31mCommand: 'c:/Users/sreem/AppData/Local/Programs/Python/Python311/python.exe -m pip install ipykernel -U --user --force-reinstall'"
          ]
        }
      ],
      "source": [
        "def get_topic_repos(topic_doc):\n",
        "    \n",
        "    #Get h3 tags containing repo title,repo URL and username\n",
        "    h3_selection_class='f3 color-fg-muted text-normal lh-condensed'\n",
        "    Repo_tags=topic_doc.find_all('h3',{'class':h3_selection_class})\n",
        "    ## Get star tags\n",
        "    star_tags=topic_doc.find_all('span',{'class':'Counter js-social-count'})\n",
        "    \n",
        "    topic_repo_dict={\n",
        "    'username':[],'repo_name':[],'stars':[],'repo_url':[]}\n",
        "\n",
        "    #get repo info\n",
        "    for i in range(len(Repo_tags)):\n",
        "        repo_info=get_repo_info(Repo_tags[i],star_tags[i])\n",
        "        topic_repo_dict['username'].append(repo_info[0])\n",
        "        topic_repo_dict['repo_name'].append(repo_info[1])\n",
        "        topic_repo_dict['stars'].append(repo_info[2])\n",
        "        topic_repo_dict['repo_url'].append(repo_info[3])\n",
        "  \n",
        "\n",
        "    return pd.DataFrame(topic_repo_dict)\n"
      ]
    },
    {
      "cell_type": "code",
      "execution_count": null,
      "metadata": {
        "id": "J3wyQ9HYjsbm"
      },
      "outputs": [
        {
          "ename": "",
          "evalue": "",
          "output_type": "error",
          "traceback": [
            "\u001b[1;31mRunning cells with 'c:\\Users\\sreem\\AppData\\Local\\Programs\\Python\\Python311\\python.exe' requires the ipykernel package.\n",
            "\u001b[1;31mRun the following command to install 'ipykernel' into the Python environment. \n",
            "\u001b[1;31mCommand: 'c:/Users/sreem/AppData/Local/Programs/Python/Python311/python.exe -m pip install ipykernel -U --user --force-reinstall'"
          ]
        }
      ],
      "source": [
        "def scrape_topic(topic_url,path):\n",
        "    if os.path.exists(path):\n",
        "        print(\"The file {} already exists. skipping...\".format(path))\n",
        "        return\n",
        "    topic_df = get_topic_repos(get_topic_page(topic_url))\n",
        "    topic_df.to_csv(path + '.csv' ,index=None)\n"
      ]
    },
    {
      "cell_type": "markdown",
      "metadata": {
        "id": "cxOU3CpUjsbn"
      },
      "source": [
        "### Putting it all together\n",
        "- we have a function to get the all topics.\n",
        "- we have a function to create a csv file for scrapped repos from the topic page.\n",
        "- let's create a function to put them together.\n"
      ]
    },
    {
      "cell_type": "code",
      "execution_count": null,
      "metadata": {
        "id": "xD2A2G-qjsbo"
      },
      "outputs": [
        {
          "ename": "",
          "evalue": "",
          "output_type": "error",
          "traceback": [
            "\u001b[1;31mRunning cells with 'c:\\Users\\sreem\\AppData\\Local\\Programs\\Python\\Python311\\python.exe' requires the ipykernel package.\n",
            "\u001b[1;31mRun the following command to install 'ipykernel' into the Python environment. \n",
            "\u001b[1;31mCommand: 'c:/Users/sreem/AppData/Local/Programs/Python/Python311/python.exe -m pip install ipykernel -U --user --force-reinstall'"
          ]
        }
      ],
      "source": [
        "def scrape_topics_repos():\n",
        "    print('scraping list of topics')\n",
        "    topics_df = scrape_topics()\n",
        "    \n",
        "    os.makedirs('data',exist_ok=True)\n",
        "    \n",
        "    for index, row in topics_df.iterrows():\n",
        "        print('scraping top repositories for \"{}\"'.format(row['title']))\n",
        "        scrape_topic(row['url'],'data/{}'.format(row['title']))"
      ]
    },
    {
      "cell_type": "markdown",
      "metadata": {
        "id": "w4yK6Iahjsbp"
      },
      "source": [
        "let's run it to scrape the top repos for all the topics on the first page of https://github.com/topics"
      ]
    },
    {
      "cell_type": "code",
      "execution_count": null,
      "metadata": {
        "colab": {
          "base_uri": "https://localhost:8080/"
        },
        "id": "F88uQNTnjsbp",
        "outputId": "71100f96-6432-491a-a6dd-b6ffafe52799"
      },
      "outputs": [
        {
          "ename": "",
          "evalue": "",
          "output_type": "error",
          "traceback": [
            "\u001b[1;31mRunning cells with 'c:\\Users\\sreem\\AppData\\Local\\Programs\\Python\\Python311\\python.exe' requires the ipykernel package.\n",
            "\u001b[1;31mRun the following command to install 'ipykernel' into the Python environment. \n",
            "\u001b[1;31mCommand: 'c:/Users/sreem/AppData/Local/Programs/Python/Python311/python.exe -m pip install ipykernel -U --user --force-reinstall'"
          ]
        }
      ],
      "source": [
        "scrape_topics_repos()"
      ]
    },
    {
      "cell_type": "markdown",
      "metadata": {
        "id": "a82H3TsIjsbq"
      },
      "source": [
        "we can check that the CSV's were created properly"
      ]
    },
    {
      "cell_type": "code",
      "execution_count": null,
      "metadata": {
        "id": "0pqfhJ8Mjsbq"
      },
      "outputs": [
        {
          "ename": "",
          "evalue": "",
          "output_type": "error",
          "traceback": [
            "\u001b[1;31mRunning cells with 'c:\\Users\\sreem\\AppData\\Local\\Programs\\Python\\Python311\\python.exe' requires the ipykernel package.\n",
            "\u001b[1;31mRun the following command to install 'ipykernel' into the Python environment. \n",
            "\u001b[1;31mCommand: 'c:/Users/sreem/AppData/Local/Programs/Python/Python311/python.exe -m pip install ipykernel -U --user --force-reinstall'"
          ]
        }
      ],
      "source": [
        "#read and display a CSV using pandas"
      ]
    },
    {
      "cell_type": "code",
      "execution_count": null,
      "metadata": {
        "colab": {
          "base_uri": "https://localhost:8080/",
          "height": 328
        },
        "id": "J5S183Yqjsbr",
        "outputId": "596011fa-818b-4554-ce1d-627efc688cc3"
      },
      "outputs": [
        {
          "ename": "",
          "evalue": "",
          "output_type": "error",
          "traceback": [
            "\u001b[1;31mRunning cells with 'c:\\Users\\sreem\\AppData\\Local\\Programs\\Python\\Python311\\python.exe' requires the ipykernel package.\n",
            "\u001b[1;31mRun the following command to install 'ipykernel' into the Python environment. \n",
            "\u001b[1;31mCommand: 'c:/Users/sreem/AppData/Local/Programs/Python/Python311/python.exe -m pip install ipykernel -U --user --force-reinstall'"
          ]
        }
      ],
      "source": [
        "pd.read_csv('data/3D.csv')"
      ]
    },
    {
      "cell_type": "markdown",
      "metadata": {
        "id": "X7DBwVCQjsbs"
      },
      "source": [
        "##  Future work\n",
        "\n",
        "\n",
        "Ideas for future work\n",
        "\n",
        "- Expand the scope of scraping to other categories in github like trending,collections etc....\n",
        "\n",
        "- scraping topics more than 20.\n",
        "\n",
        "- using another tools like scrapy,selenium."
      ]
    }
  ],
  "metadata": {
    "colab": {
      "include_colab_link": true,
      "provenance": [],
      "toc_visible": true
    },
    "kernelspec": {
      "display_name": "Python 3 (ipykernel)",
      "language": "python",
      "name": "python3"
    },
    "language_info": {
      "codemirror_mode": {
        "name": "ipython",
        "version": 3
      },
      "file_extension": ".py",
      "mimetype": "text/x-python",
      "name": "python",
      "nbconvert_exporter": "python",
      "pygments_lexer": "ipython3",
      "version": "3.11.2"
    }
  },
  "nbformat": 4,
  "nbformat_minor": 0
}
