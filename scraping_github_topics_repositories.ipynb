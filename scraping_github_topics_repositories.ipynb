{
  "cells": [
    {
      "cell_type": "markdown",
      "metadata": {
        "colab_type": "text",
        "id": "view-in-github"
      },
      "source": [
        "<a href=\"https://colab.research.google.com/github/vindhyathallu/python_project/blob/main/scraping_github_topics_repositories.ipynb\" target=\"_parent\"><img src=\"https://colab.research.google.com/assets/colab-badge.svg\" alt=\"Open In Colab\"/></a>"
      ]
    },
    {
      "cell_type": "markdown",
      "metadata": {
        "id": "KHWcphJ4jsbH"
      },
      "source": [
        "# Scraping Top Repositories for Topics on Github\n",
        "\n",
        "\n",
        "\n",
        "\n",
        "Web scraping is the process of extracting and parsing data from websites in an automated fashion using a computer program.       it's a useful technique for creating datasets for research and learning. \n",
        "\n",
        "GitHub is a code hosting platform for collaboration and version control.\n",
        "GitHub lets you (and others) work together on projects.\n",
        "\n",
        "python is the language used in this project and\n",
        "requests,Beautiful soup,pandas are the libraries are used.\n",
        "\n",
        "Here are the steps we will follow:\n",
        "\n",
        "- we are going to scrape https://github.com/topics\n",
        "- we will get a list of topics. For each topic,we'll get topic title,topic page URL and topic description.\n",
        "- For each topic,we'll get the top 25 repositories in the topic from the topic page.\n",
        "- For each repository,we'll grab the repo name,username,stars and repo URL.\n",
        "- for each URL we'll create a csv file in the following format:\n",
        "----\n",
        "- Repo Name,username,Stars,Repo URL\n",
        "- three.js,mrdoob,90000,https://github.com/mrdoob/three.js\n",
        "- pmndrs,react-three-fiber,22100,https://github.com/pmndrs/react-three-fiber\n"
      ]
    },
    {
      "cell_type": "markdown",
      "metadata": {
        "id": "K8CLPHk7jsbQ"
      },
      "source": [
        "## Scraping the list of topics from Github\n",
        "\n",
        "Explain how you will do it\n",
        "\n",
        "- use requests to download the page\n",
        "- use BS4 to parse and extract information\n",
        "- convert to a pandas DataFrame\n",
        "\n",
        "let's write a function to download the page"
      ]
    },
    {
      "cell_type": "code",
      "execution_count": null,
      "metadata": {
        "id": "uP3tYdq4jsbS"
      },
      "outputs": [],
      "source": [
        "import requests\n",
        "from bs4 import BeautifulSoup\n",
        "\n",
        "def get_topics_page():\n",
        "    #ToDo-add comments\n",
        "    topics_url = 'https://github.com/topics'\n",
        "    response = requests.get(topics_url)\n",
        "    if response.status_code != 200:\n",
        "        raise Exception('Failed to load page {}'.format(topics_url))\n",
        "    doc=BeautifulSoup(response.text,'html.parser')\n",
        "    return doc"
      ]
    },
    {
      "cell_type": "code",
      "execution_count": null,
      "metadata": {
        "id": "8ibCx30ijsbU"
      },
      "outputs": [],
      "source": [
        "doc=get_topics_page()"
      ]
    },
    {
      "cell_type": "markdown",
      "metadata": {
        "id": "HmYMDg2_jsbU"
      },
      "source": [
        "Let's create some helper functions to parse information from the page\n",
        "\n",
        "To get topic titles,we can pick p tags with the class..."
      ]
    },
    {
      "cell_type": "code",
      "execution_count": null,
      "metadata": {
        "id": "lvEytbqCjsbV"
      },
      "outputs": [],
      "source": [
        "def get_topic_titles(doc):\n",
        "    selection_class='f3 lh-condensed mb-0 mt-1 Link--primary'\n",
        "    topic_title_tags = doc.find_all('p',{'class':selection_class})\n",
        "    topic_titles=[]\n",
        "    for tag in topic_title_tags:\n",
        "        topic_titles.append(tag.text)\n",
        "\n",
        "    return topic_titles\n"
      ]
    },
    {
      "cell_type": "markdown",
      "metadata": {
        "id": "Jc__61u2jsbW"
      },
      "source": [
        "get_topic_titles can be used to get the list of titles"
      ]
    },
    {
      "cell_type": "code",
      "execution_count": null,
      "metadata": {
        "id": "soimL2YZjsbX"
      },
      "outputs": [],
      "source": [
        "titles=get_topic_titles(doc)"
      ]
    },
    {
      "cell_type": "code",
      "execution_count": null,
      "metadata": {
        "colab": {
          "base_uri": "https://localhost:8080/"
        },
        "id": "Up4Xj1eDjsbY",
        "outputId": "3a10720d-0000-45f1-8014-9c4632d61a8d"
      },
      "outputs": [
        {
          "data": {
            "text/plain": [
              "30"
            ]
          },
          "execution_count": 6,
          "metadata": {},
          "output_type": "execute_result"
        }
      ],
      "source": [
        "len(titles)"
      ]
    },
    {
      "cell_type": "markdown",
      "metadata": {
        "id": "G417VyB_zVWg"
      },
      "source": [
        "For Example"
      ]
    },
    {
      "cell_type": "code",
      "execution_count": null,
      "metadata": {
        "colab": {
          "base_uri": "https://localhost:8080/"
        },
        "id": "Ko2FVFYQjsbb",
        "outputId": "75f139a5-8bce-43d8-e585-24721d4400a6"
      },
      "outputs": [
        {
          "data": {
            "text/plain": [
              "['3D', 'Ajax', 'Algorithm', 'Amp', 'Android']"
            ]
          },
          "execution_count": 10,
          "metadata": {},
          "output_type": "execute_result"
        }
      ],
      "source": [
        "titles[:5]"
      ]
    },
    {
      "cell_type": "markdown",
      "metadata": {
        "id": "xWsGxMcMjsbc"
      },
      "source": [
        "similarly we have defined functions for descriptions and URLs."
      ]
    },
    {
      "cell_type": "code",
      "execution_count": null,
      "metadata": {
        "id": "5a0roNgujsbc"
      },
      "outputs": [],
      "source": [
        "def get_topic_descs(doc):\n",
        "    desc_selector='f5 color-fg-muted mb-0 mt-1'\n",
        "    topic_desc_tags=doc.find_all('p',{'class':desc_selector})\n",
        "        \n",
        "                        \n",
        "    topic_descriptions=[]\n",
        "                        \n",
        "    for tag in topic_desc_tags:\n",
        "        topic_descriptions.append(tag.text.strip())\n",
        "    return topic_descriptions"
      ]
    },
    {
      "cell_type": "markdown",
      "metadata": {
        "id": "h4ji9o3NzVWk"
      },
      "source": [
        "To get topic url's we can a tags with class.."
      ]
    },
    {
      "cell_type": "code",
      "execution_count": null,
      "metadata": {
        "id": "IewX7nbajsbd"
      },
      "outputs": [],
      "source": [
        "def get_topic_urls(doc):\n",
        "    topic_link_tags=doc.find_all('a',{'class':'no-underline flex-grow-0'})\n",
        "    topic_urls=[]\n",
        "    base_url='https://github.com'\n",
        "    for tag in topic_link_tags:\n",
        "        topic_urls.append(base_url+tag['href'])\n",
        "    return topic_urls"
      ]
    },
    {
      "cell_type": "markdown",
      "metadata": {
        "id": "MbSpPTNAjsbe"
      },
      "source": [
        "Let's put it all together into a single function."
      ]
    },
    {
      "cell_type": "code",
      "execution_count": null,
      "metadata": {
        "id": "GXPzco4Hjsbe"
      },
      "outputs": [],
      "source": [
        "def scrape_topics():\n",
        "    topics_url = 'https://github.com/topics'\n",
        "    response = requests.get(topics_url)\n",
        "    if response.status_code != 200:\n",
        "        raise Exception('Failed to load page {}'.format(topics_url))\n",
        "    doc=BeautifulSoup(response.text,'html.parser')\n",
        "    topics_dict = {\n",
        "        'title': get_topic_titles(doc),\n",
        "        'description': get_topic_descs(doc),\n",
        "        'url': get_topic_urls(doc)\n",
        "    }\n",
        "\n",
        "\n",
        "    return pd.DataFrame(topics_dict)"
      ]
    },
    {
      "cell_type": "markdown",
      "metadata": {
        "id": "hmoPXB0ljsbg"
      },
      "source": [
        "## Get the top 25 repositories from the topic page.\n"
      ]
    },
    {
      "cell_type": "code",
      "execution_count": null,
      "metadata": {
        "id": "JaEmzwgFjsbh"
      },
      "outputs": [],
      "source": [
        "import pandas as pd\n",
        "import os"
      ]
    },
    {
      "cell_type": "code",
      "execution_count": null,
      "metadata": {
        "id": "P1SzAU8Ajsbh"
      },
      "outputs": [],
      "source": [
        "def get_topic_page(topic_url):\n",
        "    #Download the page\n",
        "    response=requests.get(topic_url)\n",
        "    #check successful response\n",
        "    if response.status_code!=200:\n",
        "        raise Exception('Failed to load page{}'.format(topic_url))\n",
        "        \n",
        "    #parse using Beautiful soup\n",
        "    topic_doc=BeautifulSoup(response.text,'html.parser')\n",
        "    return topic_doc"
      ]
    },
    {
      "cell_type": "code",
      "execution_count": null,
      "metadata": {
        "id": "w4ncUjphjsbi"
      },
      "outputs": [],
      "source": [
        "doc=get_topic_page('https://github.com/topics/3d')"
      ]
    },
    {
      "cell_type": "markdown",
      "metadata": {
        "id": "PjJFOD_Kjsbj"
      },
      "source": []
    },
    {
      "cell_type": "code",
      "execution_count": null,
      "metadata": {
        "id": "ApmxATPtjsbj"
      },
      "outputs": [],
      "source": [
        "def parse_star_count(star_str):\n",
        "    star_str=star_str.strip()\n",
        "    if star_str[-1]=='k':\n",
        "        return int(float(star_str[:-1])*1000)\n",
        "    return int(star_str)"
      ]
    },
    {
      "cell_type": "code",
      "execution_count": null,
      "metadata": {
        "id": "HXZqKlP1jsbk"
      },
      "outputs": [],
      "source": [
        "def get_repo_info(h1_tag,star_tag):\n",
        "    a_tags=h1_tag.find_all('a')\n",
        "    username=a_tags[0].text.strip()\n",
        "    repo_name=a_tags[1].text.strip()\n",
        "    repo_url='https://github.com'+a_tags[1]['href']\n",
        "    stars=parse_star_count(star_tag.text.strip())\n",
        "    return username,repo_name,stars,repo_url"
      ]
    },
    {
      "cell_type": "code",
      "execution_count": null,
      "metadata": {
        "id": "Yq50Jijgjsbl"
      },
      "outputs": [],
      "source": [
        "def get_topic_repos(topic_doc):\n",
        "    \n",
        "    #Get h3 tags containing repo title,repo URL and username\n",
        "    h3_selection_class='f3 color-fg-muted text-normal lh-condensed'\n",
        "    Repo_tags=topic_doc.find_all('h3',{'class':h3_selection_class})\n",
        "    ## Get star tags\n",
        "    star_tags=topic_doc.find_all('span',{'class':'Counter js-social-count'})\n",
        "    \n",
        "    topic_repo_dict={\n",
        "    'username':[],'repo_name':[],'stars':[],'repo_url':[]}\n",
        "\n",
        "    #get repo info\n",
        "    for i in range(len(Repo_tags)):\n",
        "        repo_info=get_repo_info(Repo_tags[i],star_tags[i])\n",
        "        topic_repo_dict['username'].append(repo_info[0])\n",
        "        topic_repo_dict['repo_name'].append(repo_info[1])\n",
        "        topic_repo_dict['stars'].append(repo_info[2])\n",
        "        topic_repo_dict['repo_url'].append(repo_info[3])\n",
        "  \n",
        "\n",
        "    return pd.DataFrame(topic_repo_dict)\n"
      ]
    },
    {
      "cell_type": "code",
      "execution_count": null,
      "metadata": {
        "id": "J3wyQ9HYjsbm"
      },
      "outputs": [],
      "source": [
        "def scrape_topic(topic_url,path):\n",
        "    if os.path.exists(path):\n",
        "        print(\"The file {} already exists. skipping...\".format(path))\n",
        "        return\n",
        "    topic_df = get_topic_repos(get_topic_page(topic_url))\n",
        "    topic_df.to_csv(path + '.csv' ,index=None)\n"
      ]
    },
    {
      "cell_type": "markdown",
      "metadata": {
        "id": "cxOU3CpUjsbn"
      },
      "source": [
        "### Putting it all together\n",
        "- we have a function to get the all topics.\n",
        "- we have a function to create a csv file for scrapped repos from the topic page.\n",
        "- let's create a function to put them together.\n"
      ]
    },
    {
      "cell_type": "code",
      "execution_count": null,
      "metadata": {
        "id": "xD2A2G-qjsbo"
      },
      "outputs": [],
      "source": [
        "def scrape_topics_repos():\n",
        "    print('scraping list of topics')\n",
        "    topics_df = scrape_topics()\n",
        "    \n",
        "    os.makedirs('data',exist_ok=True)\n",
        "    \n",
        "    for index, row in topics_df.iterrows():\n",
        "        print('scraping top repositories for \"{}\"'.format(row['title']))\n",
        "        scrape_topic(row['url'],'data/{}'.format(row['title']))"
      ]
    },
    {
      "cell_type": "markdown",
      "metadata": {
        "id": "w4yK6Iahjsbp"
      },
      "source": [
        "let's run it to scrape the top repos for all the topics on the first page of https://github.com/topics"
      ]
    },
    {
      "cell_type": "code",
      "execution_count": null,
      "metadata": {
        "colab": {
          "base_uri": "https://localhost:8080/"
        },
        "id": "F88uQNTnjsbp",
        "outputId": "71100f96-6432-491a-a6dd-b6ffafe52799"
      },
      "outputs": [
        {
          "name": "stdout",
          "output_type": "stream",
          "text": [
            "scraping list of topics\n",
            "scraping top repositories for \"3D\"\n",
            "scraping top repositories for \"Ajax\"\n",
            "scraping top repositories for \"Algorithm\"\n",
            "scraping top repositories for \"Amp\"\n",
            "scraping top repositories for \"Android\"\n",
            "scraping top repositories for \"Angular\"\n",
            "scraping top repositories for \"Ansible\"\n",
            "scraping top repositories for \"API\"\n",
            "scraping top repositories for \"Arduino\"\n",
            "scraping top repositories for \"ASP.NET\"\n",
            "scraping top repositories for \"Atom\"\n",
            "scraping top repositories for \"Awesome Lists\"\n",
            "scraping top repositories for \"Amazon Web Services\"\n",
            "scraping top repositories for \"Azure\"\n",
            "scraping top repositories for \"Babel\"\n",
            "scraping top repositories for \"Bash\"\n",
            "scraping top repositories for \"Bitcoin\"\n",
            "scraping top repositories for \"Bootstrap\"\n",
            "scraping top repositories for \"Bot\"\n",
            "scraping top repositories for \"C\"\n",
            "scraping top repositories for \"Chrome\"\n",
            "scraping top repositories for \"Chrome extension\"\n",
            "scraping top repositories for \"Command line interface\"\n",
            "scraping top repositories for \"Clojure\"\n",
            "scraping top repositories for \"Code quality\"\n",
            "scraping top repositories for \"Code review\"\n",
            "scraping top repositories for \"Compiler\"\n",
            "scraping top repositories for \"Continuous integration\"\n",
            "scraping top repositories for \"COVID-19\"\n",
            "scraping top repositories for \"C++\"\n"
          ]
        }
      ],
      "source": [
        "scrape_topics_repos()"
      ]
    },
    {
      "cell_type": "markdown",
      "metadata": {
        "id": "a82H3TsIjsbq"
      },
      "source": [
        "we can check that the CSV's were created properly"
      ]
    },
    {
      "cell_type": "code",
      "execution_count": null,
      "metadata": {
        "id": "0pqfhJ8Mjsbq"
      },
      "outputs": [],
      "source": [
        "#read and display a CSV using pandas"
      ]
    },
    {
      "cell_type": "code",
      "execution_count": null,
      "metadata": {
        "colab": {
          "base_uri": "https://localhost:8080/",
          "height": 328
        },
        "id": "J5S183Yqjsbr",
        "outputId": "596011fa-818b-4554-ce1d-627efc688cc3"
      },
      "outputs": [
        {
          "data": {
            "text/html": [
              "<div>\n",
              "<style scoped>\n",
              "    .dataframe tbody tr th:only-of-type {\n",
              "        vertical-align: middle;\n",
              "    }\n",
              "\n",
              "    .dataframe tbody tr th {\n",
              "        vertical-align: top;\n",
              "    }\n",
              "\n",
              "    .dataframe thead th {\n",
              "        text-align: right;\n",
              "    }\n",
              "</style>\n",
              "<table border=\"1\" class=\"dataframe\">\n",
              "  <thead>\n",
              "    <tr style=\"text-align: right;\">\n",
              "      <th></th>\n",
              "      <th>username</th>\n",
              "      <th>repo_name</th>\n",
              "      <th>stars</th>\n",
              "      <th>repo_url</th>\n",
              "    </tr>\n",
              "  </thead>\n",
              "  <tbody>\n",
              "    <tr>\n",
              "      <th>0</th>\n",
              "      <td>mrdoob</td>\n",
              "      <td>three.js</td>\n",
              "      <td>91300</td>\n",
              "      <td>https://github.com/mrdoob/three.js</td>\n",
              "    </tr>\n",
              "    <tr>\n",
              "      <th>1</th>\n",
              "      <td>pmndrs</td>\n",
              "      <td>react-three-fiber</td>\n",
              "      <td>22400</td>\n",
              "      <td>https://github.com/pmndrs/react-three-fiber</td>\n",
              "    </tr>\n",
              "    <tr>\n",
              "      <th>2</th>\n",
              "      <td>libgdx</td>\n",
              "      <td>libgdx</td>\n",
              "      <td>21500</td>\n",
              "      <td>https://github.com/libgdx/libgdx</td>\n",
              "    </tr>\n",
              "    <tr>\n",
              "      <th>3</th>\n",
              "      <td>BabylonJS</td>\n",
              "      <td>Babylon.js</td>\n",
              "      <td>20500</td>\n",
              "      <td>https://github.com/BabylonJS/Babylon.js</td>\n",
              "    </tr>\n",
              "    <tr>\n",
              "      <th>4</th>\n",
              "      <td>ssloy</td>\n",
              "      <td>tinyrenderer</td>\n",
              "      <td>16800</td>\n",
              "      <td>https://github.com/ssloy/tinyrenderer</td>\n",
              "    </tr>\n",
              "    <tr>\n",
              "      <th>5</th>\n",
              "      <td>aframevr</td>\n",
              "      <td>aframe</td>\n",
              "      <td>15300</td>\n",
              "      <td>https://github.com/aframevr/aframe</td>\n",
              "    </tr>\n",
              "    <tr>\n",
              "      <th>6</th>\n",
              "      <td>lettier</td>\n",
              "      <td>3d-game-shaders-for-beginners</td>\n",
              "      <td>15100</td>\n",
              "      <td>https://github.com/lettier/3d-game-shaders-for...</td>\n",
              "    </tr>\n",
              "    <tr>\n",
              "      <th>7</th>\n",
              "      <td>FreeCAD</td>\n",
              "      <td>FreeCAD</td>\n",
              "      <td>13900</td>\n",
              "      <td>https://github.com/FreeCAD/FreeCAD</td>\n",
              "    </tr>\n",
              "    <tr>\n",
              "      <th>8</th>\n",
              "      <td>CesiumGS</td>\n",
              "      <td>cesium</td>\n",
              "      <td>10300</td>\n",
              "      <td>https://github.com/CesiumGS/cesium</td>\n",
              "    </tr>\n",
              "    <tr>\n",
              "      <th>9</th>\n",
              "      <td>metafizzy</td>\n",
              "      <td>zdog</td>\n",
              "      <td>9700</td>\n",
              "      <td>https://github.com/metafizzy/zdog</td>\n",
              "    </tr>\n",
              "    <tr>\n",
              "      <th>10</th>\n",
              "      <td>timzhang642</td>\n",
              "      <td>3D-Machine-Learning</td>\n",
              "      <td>8900</td>\n",
              "      <td>https://github.com/timzhang642/3D-Machine-Lear...</td>\n",
              "    </tr>\n",
              "    <tr>\n",
              "      <th>11</th>\n",
              "      <td>isl-org</td>\n",
              "      <td>Open3D</td>\n",
              "      <td>8600</td>\n",
              "      <td>https://github.com/isl-org/Open3D</td>\n",
              "    </tr>\n",
              "    <tr>\n",
              "      <th>12</th>\n",
              "      <td>blender</td>\n",
              "      <td>blender</td>\n",
              "      <td>8400</td>\n",
              "      <td>https://github.com/blender/blender</td>\n",
              "    </tr>\n",
              "    <tr>\n",
              "      <th>13</th>\n",
              "      <td>a1studmuffin</td>\n",
              "      <td>SpaceshipGenerator</td>\n",
              "      <td>7400</td>\n",
              "      <td>https://github.com/a1studmuffin/SpaceshipGener...</td>\n",
              "    </tr>\n",
              "    <tr>\n",
              "      <th>14</th>\n",
              "      <td>domlysz</td>\n",
              "      <td>BlenderGIS</td>\n",
              "      <td>6300</td>\n",
              "      <td>https://github.com/domlysz/BlenderGIS</td>\n",
              "    </tr>\n",
              "    <tr>\n",
              "      <th>15</th>\n",
              "      <td>FyroxEngine</td>\n",
              "      <td>Fyrox</td>\n",
              "      <td>6100</td>\n",
              "      <td>https://github.com/FyroxEngine/Fyrox</td>\n",
              "    </tr>\n",
              "    <tr>\n",
              "      <th>16</th>\n",
              "      <td>openscad</td>\n",
              "      <td>openscad</td>\n",
              "      <td>5600</td>\n",
              "      <td>https://github.com/openscad/openscad</td>\n",
              "    </tr>\n",
              "    <tr>\n",
              "      <th>17</th>\n",
              "      <td>google</td>\n",
              "      <td>model-viewer</td>\n",
              "      <td>5600</td>\n",
              "      <td>https://github.com/google/model-viewer</td>\n",
              "    </tr>\n",
              "    <tr>\n",
              "      <th>18</th>\n",
              "      <td>spritejs</td>\n",
              "      <td>spritejs</td>\n",
              "      <td>5200</td>\n",
              "      <td>https://github.com/spritejs/spritejs</td>\n",
              "    </tr>\n",
              "    <tr>\n",
              "      <th>19</th>\n",
              "      <td>jagenjo</td>\n",
              "      <td>webglstudio.js</td>\n",
              "      <td>4900</td>\n",
              "      <td>https://github.com/jagenjo/webglstudio.js</td>\n",
              "    </tr>\n",
              "  </tbody>\n",
              "</table>\n",
              "</div>"
            ],
            "text/plain": [
              "        username                      repo_name  stars  \\\n",
              "0         mrdoob                       three.js  91300   \n",
              "1         pmndrs              react-three-fiber  22400   \n",
              "2         libgdx                         libgdx  21500   \n",
              "3      BabylonJS                     Babylon.js  20500   \n",
              "4          ssloy                   tinyrenderer  16800   \n",
              "5       aframevr                         aframe  15300   \n",
              "6        lettier  3d-game-shaders-for-beginners  15100   \n",
              "7        FreeCAD                        FreeCAD  13900   \n",
              "8       CesiumGS                         cesium  10300   \n",
              "9      metafizzy                           zdog   9700   \n",
              "10   timzhang642            3D-Machine-Learning   8900   \n",
              "11       isl-org                         Open3D   8600   \n",
              "12       blender                        blender   8400   \n",
              "13  a1studmuffin             SpaceshipGenerator   7400   \n",
              "14       domlysz                     BlenderGIS   6300   \n",
              "15   FyroxEngine                          Fyrox   6100   \n",
              "16      openscad                       openscad   5600   \n",
              "17        google                   model-viewer   5600   \n",
              "18      spritejs                       spritejs   5200   \n",
              "19       jagenjo                 webglstudio.js   4900   \n",
              "\n",
              "                                             repo_url  \n",
              "0                  https://github.com/mrdoob/three.js  \n",
              "1         https://github.com/pmndrs/react-three-fiber  \n",
              "2                    https://github.com/libgdx/libgdx  \n",
              "3             https://github.com/BabylonJS/Babylon.js  \n",
              "4               https://github.com/ssloy/tinyrenderer  \n",
              "5                  https://github.com/aframevr/aframe  \n",
              "6   https://github.com/lettier/3d-game-shaders-for...  \n",
              "7                  https://github.com/FreeCAD/FreeCAD  \n",
              "8                  https://github.com/CesiumGS/cesium  \n",
              "9                   https://github.com/metafizzy/zdog  \n",
              "10  https://github.com/timzhang642/3D-Machine-Lear...  \n",
              "11                  https://github.com/isl-org/Open3D  \n",
              "12                 https://github.com/blender/blender  \n",
              "13  https://github.com/a1studmuffin/SpaceshipGener...  \n",
              "14              https://github.com/domlysz/BlenderGIS  \n",
              "15               https://github.com/FyroxEngine/Fyrox  \n",
              "16               https://github.com/openscad/openscad  \n",
              "17             https://github.com/google/model-viewer  \n",
              "18               https://github.com/spritejs/spritejs  \n",
              "19          https://github.com/jagenjo/webglstudio.js  "
            ]
          },
          "execution_count": 28,
          "metadata": {},
          "output_type": "execute_result"
        }
      ],
      "source": [
        "pd.read_csv('data/3D.csv')"
      ]
    },
    {
      "cell_type": "markdown",
      "metadata": {
        "id": "X7DBwVCQjsbs"
      },
      "source": [
        "##  Future work\n",
        "\n",
        "\n",
        "Ideas for future work\n",
        "\n",
        "- Expand the scope of scraping to other categories in github like trending,collections etc....\n",
        "\n",
        "- scraping topics more than 20.\n",
        "\n",
        "- using another tools like scrapy,selenium."
      ]
    }
  ],
  "metadata": {
    "colab": {
      "include_colab_link": true,
      "provenance": [],
      "toc_visible": true
    },
    "kernelspec": {
      "display_name": "Python 3 (ipykernel)",
      "language": "python",
      "name": "python3"
    },
    "language_info": {
      "codemirror_mode": {
        "name": "ipython",
        "version": 3
      },
      "file_extension": ".py",
      "mimetype": "text/x-python",
      "name": "python",
      "nbconvert_exporter": "python",
      "pygments_lexer": "ipython3",
      "version": "3.11.5"
    }
  },
  "nbformat": 4,
  "nbformat_minor": 0
}
